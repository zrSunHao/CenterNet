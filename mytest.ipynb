{
 "cells": [
  {
   "attachments": {},
   "cell_type": "markdown",
   "metadata": {},
   "source": [
    "### t.stack"
   ]
  },
  {
   "cell_type": "code",
   "execution_count": 36,
   "metadata": {},
   "outputs": [
    {
     "name": "stdout",
     "output_type": "stream",
     "text": [
      "tensor([[1., 2., 3.],\n",
      "        [4., 5., 6.]])\n",
      "tensor([[1., 4.],\n",
      "        [2., 5.],\n",
      "        [3., 6.]])\n"
     ]
    }
   ],
   "source": [
    "import torch as t\n",
    " \n",
    "x = t.Tensor([ 1, 2, 3 ])\n",
    "y = t.Tensor([ 4, 5, 6 ])\n",
    " \n",
    "w = t.stack([x,y], dim=0)\n",
    "print(w)\n",
    "\n",
    "z = t.stack([x,y], dim=-1)\n",
    "print(z)"
   ]
  },
  {
   "attachments": {},
   "cell_type": "markdown",
   "metadata": {},
   "source": [
    "### t.clamp"
   ]
  },
  {
   "cell_type": "code",
   "execution_count": 2,
   "metadata": {},
   "outputs": [
    {
     "name": "stdout",
     "output_type": "stream",
     "text": [
      "tensor([2., 2., 3., 4., 5., 5.])\n"
     ]
    }
   ],
   "source": [
    "import torch as t\n",
    "\n",
    "x = t.Tensor([1, 2, 3, 4, 5, 6])\n",
    "y = t.clamp(x, min=2, max=5)\n",
    "print(y)"
   ]
  },
  {
   "attachments": {},
   "cell_type": "markdown",
   "metadata": {},
   "source": [
    "### t.unsqueeze"
   ]
  },
  {
   "cell_type": "code",
   "execution_count": 31,
   "metadata": {},
   "outputs": [
    {
     "name": "stdout",
     "output_type": "stream",
     "text": [
      "torch.Size([3, 1])\n",
      "tensor([[1.],\n",
      "        [2.],\n",
      "        [3.]])\n",
      "torch.Size([3, 1, 1])\n",
      "tensor([[[1.]],\n",
      "\n",
      "        [[2.]],\n",
      "\n",
      "        [[3.]]])\n"
     ]
    }
   ],
   "source": [
    "import torch as t\n",
    " \n",
    "x = t.Tensor([[1], [2], [3]])\n",
    "print(x.size())\n",
    "print(x)\n",
    " \n",
    "y = x.unsqueeze(2)\n",
    "print(y.size())\n",
    "print(y)\n",
    " "
   ]
  },
  {
   "attachments": {},
   "cell_type": "markdown",
   "metadata": {},
   "source": [
    "### t.gather"
   ]
  },
  {
   "attachments": {},
   "cell_type": "markdown",
   "metadata": {},
   "source": [
    " 在dim维度上，按照indexs所给的坐标选择元素，\n",
    " 返回一个和indexs维度相同大小的tensor。"
   ]
  },
  {
   "cell_type": "code",
   "execution_count": 11,
   "metadata": {},
   "outputs": [
    {
     "name": "stdout",
     "output_type": "stream",
     "text": [
      "torch.Size([3, 1])\n",
      "torch.Size([2, 1])\n",
      "tensor([[1.],\n",
      "        [2.]])\n",
      "torch.Size([2, 1])\n"
     ]
    }
   ],
   "source": [
    "import torch as t\n",
    "import torch as t\n",
    "x = t.Tensor([[1], [2], [3]])\n",
    "print(x.size())\n",
    "inds = t.tensor([[0],[1]])\n",
    "print(inds.size())\n",
    "y = x.gather(0, inds)\n",
    "print(y)\n",
    "print(y.size())"
   ]
  },
  {
   "attachments": {},
   "cell_type": "markdown",
   "metadata": {},
   "source": [
    "## Softmax"
   ]
  },
  {
   "cell_type": "code",
   "execution_count": 2,
   "metadata": {},
   "outputs": [
    {
     "name": "stdout",
     "output_type": "stream",
     "text": [
      "y 模拟两个神经元的输出： tensor([ 0.5111, -0.0766])\n",
      "经过激活函数之后： tensor([0.6428, 0.3572])\n",
      "和为： tensor(1.)\n"
     ]
    }
   ],
   "source": [
    "import torch as t\n",
    "import torch.nn as nn\n",
    "\n",
    "y = t.randn(2)\n",
    "print('y 模拟两个神经元的输出：', y)\n",
    "\n",
    "m = nn.Softmax(dim=0)\n",
    "out = m(y)\n",
    "print('经过激活函数之后：', out)\n",
    "print('和为：', t.sum(out))"
   ]
  },
  {
   "cell_type": "code",
   "execution_count": 5,
   "metadata": {},
   "outputs": [
    {
     "name": "stdout",
     "output_type": "stream",
     "text": [
      "tensor([[28.3384, 35.5969]], grad_fn=<AddmmBackward0>)\n",
      "tensor([[7.0364e-04, 9.9930e-01]], grad_fn=<SoftmaxBackward0>)\n"
     ]
    }
   ],
   "source": [
    "import torch as t\n",
    "import torch.nn as nn\n",
    "\n",
    "x = t.randint(0, 255, (1, 128 * 128), dtype=t.float32)\n",
    "\n",
    "# 全连接\n",
    "fc = nn.Linear(128 * 128, 2)\n",
    "y = fc(x)\n",
    "print(y)\n",
    "\n",
    "# 激活函数\n",
    "output  = nn.Softmax(dim=1)(y)\n",
    "print(output)"
   ]
  },
  {
   "cell_type": "code",
   "execution_count": 34,
   "metadata": {},
   "outputs": [
    {
     "name": "stdout",
     "output_type": "stream",
     "text": [
      "tensor([[1., 2., 3.],\n",
      "        [1., 2., 3.],\n",
      "        [4., 5., 6.],\n",
      "        [4., 5., 6.]])\n",
      "tensor([[1., 2., 3., 4., 5., 6.],\n",
      "        [1., 2., 3., 4., 5., 6.]])\n"
     ]
    }
   ],
   "source": [
    "8.1.1、功能\n",
    "\n",
    "8.1.2、API 及 参数\n",
    "\n",
    "8.1.3、代码示例"
   ]
  }
 ],
 "metadata": {
  "kernelspec": {
   "display_name": "Python 3",
   "language": "python",
   "name": "python3"
  },
  "language_info": {
   "codemirror_mode": {
    "name": "ipython",
    "version": 3
   },
   "file_extension": ".py",
   "mimetype": "text/x-python",
   "name": "python",
   "nbconvert_exporter": "python",
   "pygments_lexer": "ipython3",
   "version": "3.9.15"
  },
  "orig_nbformat": 4
 },
 "nbformat": 4,
 "nbformat_minor": 2
}
